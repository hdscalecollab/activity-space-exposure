{
 "cells": [
  {
   "cell_type": "markdown",
   "metadata": {},
   "source": [
    "# Exposure Analysis: Create DAILY Activity Space\n",
    "\n",
    "////////////////////////////////////////////////////////////////////////////////////\n",
    "##### Author: Jay (Jiue-An) Yang, @JiueAnYang\n",
    "##### Organization: Health Data at Scale Collaboratory, City of Hope\n",
    "##### Last Updated: Dec 20, 2023\n",
    "////////////////////////////////////////////////////////////////////////////////////\n",
    "***"
   ]
  },
  {
   "cell_type": "markdown",
   "metadata": {},
   "source": [
    "### Requirements:\n",
    "##### 1. A file directory with .csv files containing GPS points\n",
    "##### 2. A geodatabase to store output activity space raster surfaces"
   ]
  },
  {
   "cell_type": "markdown",
   "metadata": {},
   "source": [
    "---\n",
    "### Model Workflow as in ArcGIS Model Builder\n",
    "\n",
    "![Alt text](CreateActivitySpace_KDE.PNG)"
   ]
  },
  {
   "cell_type": "markdown",
   "metadata": {},
   "source": [
    "***"
   ]
  },
  {
   "cell_type": "markdown",
   "metadata": {},
   "source": [
    "## A. Import Required Modules"
   ]
  },
  {
   "cell_type": "code",
   "execution_count": 11,
   "metadata": {
    "execution": {
     "iopub.execute_input": "2022-08-27T06:14:38.791597Z",
     "iopub.status.busy": "2022-08-27T06:14:38.790600Z",
     "iopub.status.idle": "2022-08-27T06:14:38.815534Z",
     "shell.execute_reply": "2022-08-27T06:14:38.815534Z",
     "shell.execute_reply.started": "2022-08-27T06:14:38.791597Z"
    },
    "tags": []
   },
   "outputs": [],
   "source": [
    "# Import required modules\n",
    "import arcpy\n",
    "from arcpy import env\n",
    "from arcpy.sa import *\n",
    "arcpy.CheckOutExtension(\"Spatial\")\n",
    "\n",
    "import glob, os\n",
    "import numpy as np\n",
    "import pandas as pd\n",
    "from IPython.display import clear_output"
   ]
  },
  {
   "cell_type": "markdown",
   "metadata": {},
   "source": [
    "## B. Set Global Environment Parameters and Options\n"
   ]
  },
  {
   "cell_type": "code",
   "execution_count": 16,
   "metadata": {
    "execution": {
     "iopub.execute_input": "2022-08-27T06:15:28.271492Z",
     "iopub.status.busy": "2022-08-27T06:15:28.271492Z",
     "iopub.status.idle": "2022-08-27T06:15:28.301987Z",
     "shell.execute_reply": "2022-08-27T06:15:28.301518Z",
     "shell.execute_reply.started": "2022-08-27T06:15:28.271492Z"
    },
    "tags": []
   },
   "outputs": [],
   "source": [
    "### Set environment options\n",
    "arcpy.env.overwriteOutput = True\n",
    "\n",
    "### Set methods and Point type\n",
    "running_method = 'KDE'               # Set the methods that you are running (KDE/DR/SJ)\n",
    "point_type = 'AllPoint'              # Set the point type that you are running (AllPoint/Stationary/Vehicle/Walking)\n",
    "dataset_name = \"RFH\"\n",
    "analysis_radius =  400\n",
    "date_str = \"20220826\"\n",
    "\n",
    "### Set environment variables\n",
    "project_dir = r\"C:/Users/jiyang/Documents/ArcGIS/Projects/TWSA_PA/\"\n",
    "env.workspace = r\"C:/Users/jiyang/Documents/ArcGIS/Projects/TWSA_PA/TWSA_PA.gdb/\"\n",
    "\n",
    "### Set path to GPS files and Rater output dir\n",
    "gps_data_dir = r\"D:/000_User_Documents/COH/TWSA_PA/Data/GPS_Acc_rfh/\"\n",
    "raster_output_gdb = r\"C:/Users/jiyang/Documents/ArcGIS/Projects/TWSA_PA/TWSA_PA_ActivitySpace_TOTAL_RFH_KDE_400r_50c.gdb/\"\n",
    "\n",
    "### Set column names for X/Y coordinates and datetime \n",
    "x_cord_name = 'lon'                  # column name for x coordinates in point csv \n",
    "y_cord_name = 'lat'                  # column name for y coordinates in point csv \n",
    "date_id_col_name = 'date_id_int'     # column name for y coordinates in point csv file\n",
    "\n",
    "project_output_dir = r\"C:/Users/jiyang/Documents/ArcGIS/Projects/TWSA_PA/Outputs/\"\n",
    "\n",
    "### set KDE parameters\n",
    "kde_cell_size = 50\n",
    "kde_search_radius = 400\n",
    "\n",
    "### Set path to some specific layers\n",
    "research_area = r\"C:/Users/jiyang/Documents/ArcGIS/Projects/RfH_Task1/RfH.gdb/SoCal_CatchmentArea_Boundary_proj\"\n",
    "\n",
    "### Specify spatial reference for analysis, so the distance (meters) are in correct reference\n",
    "spatial_ref = arcpy.SpatialReference('North America Albers Equal Area Conic')"
   ]
  },
  {
   "cell_type": "markdown",
   "metadata": {},
   "source": [
    "---\n",
    "## C. Creat Activity Space - KDE - DAILY"
   ]
  },
  {
   "cell_type": "code",
   "execution_count": 17,
   "metadata": {
    "execution": {
     "iopub.execute_input": "2022-08-27T06:15:32.712690Z",
     "iopub.status.busy": "2022-08-27T06:15:32.712690Z",
     "iopub.status.idle": "2022-08-27T11:44:17.973625Z",
     "shell.execute_reply": "2022-08-27T11:44:17.973625Z",
     "shell.execute_reply.started": "2022-08-27T06:15:32.712690Z"
    },
    "tags": []
   },
   "outputs": [
    {
     "name": "stdout",
     "output_type": "stream",
     "text": [
      "Working on : ZberCy041714_GPS_Acc (294/294)\n",
      "Working on : 20141221 (11/11)\n",
      "------------------------------------------------------------\n",
      "Activity surface task complete, total time spent : 19725.22935128212 \n"
     ]
    }
   ],
   "source": [
    "### Create a log file\n",
    "from datetime import datetime\n",
    "now = datetime.now()\n",
    "dt_string = now.strftime(\"%d-%m-%Y-%H-%M-%S\")\n",
    "log_file_name = \"log_\" + dt_string + \".txt\"\n",
    "\n",
    "with open(project_output_dir + log_file_name, \"a\") as f:\n",
    "    \n",
    "    ### Placeholders \n",
    "    stats_frames = pd.DataFrame(columns=['PtID', date_id_col_name, 'points_in_catchment', 'analyzed_byKDE'])  ## dataframe for writing .csv results \n",
    "\n",
    "    ### ------------------------------------------------- ###\n",
    "    ### ------------------------------------------------- ###\n",
    "    ### ------------------------------------------------- ###\n",
    "    \n",
    "    ### --------------------------------------------------------- ###\n",
    "    ### Convert Points to FeatureClass and Clip by Catchment Area ###\n",
    "    ### --------------------------------------------------------- ###\n",
    "    \n",
    "    ### Loop through .csv files in the data directory\n",
    "    start = time.time()\n",
    "    i = 1\n",
    "    total_i = len(glob.glob(gps_data_dir + \"*.csv\"))\n",
    "    \n",
    "    for file in glob.glob(gps_data_dir + \"*.csv\"):\n",
    "        pt_start = time.time()\n",
    "        clear_output(wait=True)\n",
    "        pt_ID = os.path.splitext(os.path.basename(file))[0]\n",
    "        msg_pt = \"Working on : {pt} ({index}/{total})\".format(pt = pt_ID, index = i, total= total_i)\n",
    "        print (msg_pt)\n",
    "        \n",
    "        ### Make sure extent is set to MAX\n",
    "        arcpy.env.extent = \"MAXOF\"\n",
    "        \n",
    "        ### --------------------------------------------------------\n",
    "        ### Step 1: Create feature class from CSV points\n",
    "        ### --------------------------------------------------------\n",
    "        arcpy.management.XYTableToPoint(file, \"point_fc\", x_cord_name, y_cord_name, \"\", arcpy.SpatialReference(4326))\n",
    "        print (\"Step 1: csv converted to feature class\")\n",
    "\n",
    "        ### --------------------------------------------------------\n",
    "        ### Step 2: Re-project feature class\n",
    "        ### --------------------------------------------------------\n",
    "        arcpy.Project_management(\"point_fc\", \"point_fc_proj\", spatial_ref)\n",
    "        print (\"Step 2: feature class re-projected to - \", spatial_ref.name)\n",
    "        \n",
    "        ### --------------------------------------------------------\n",
    "        ### Step 3: Clip feature class by analysis extent\n",
    "        ### --------------------------------------------------------\n",
    "        arcpy.Clip_analysis(\"point_fc_proj\", \"SoCal_CatchmentArea_Boundary_proj\", \"point_fc_cliped\")\n",
    "        print (\"Step 3: feature class clipped by research area\")\n",
    "        \n",
    "        ### --------------------------------------------------------\n",
    "        ### Look through each day in the point file\n",
    "        ### --------------------------------------------------------\n",
    "        df_points = pd.read_csv(file)\n",
    "        df_dates = list(df_points[date_id_col_name].unique())\n",
    "        j = 1\n",
    "        total_j = len(df_dates)\n",
    "        \n",
    "        for oneDay in df_dates:    \n",
    "            clear_output(wait=True)\n",
    "            print (msg_pt)\n",
    "            print(\"Working on : {dt} ({index}/{total})\".format(dt = oneDay, index = j, total= total_j))\n",
    "                    \n",
    "            ### --------------------------------------------------------\n",
    "            ### Step 4: Subset to the date-point only\n",
    "            ### --------------------------------------------------------\n",
    "            \n",
    "            # Make a layer from the feature class\n",
    "            arcpy.MakeFeatureLayer_management(\"point_fc_cliped\",\"point_cliped_lyr\")\n",
    "            \n",
    "            # Within the selection (done above) further select only point on the day\n",
    "            arcpy.management.SelectLayerByAttribute(\"point_cliped_lyr\", \"NEW_SELECTION\", date_id_col_name + \" = \" + str(oneDay), None)\n",
    "            \n",
    "            # Check if there are enough points on each day \n",
    "            points_per_day_counts = arcpy.GetCount_management(\"point_cliped_lyr\")[0]\n",
    "            \n",
    "            ### Created KDE if more than 60 points in catchment\n",
    "            if int(points_per_day_counts) >= 60:\n",
    "                \n",
    "                ### reset analysis extent \n",
    "                arcpy.env.extent = \"MAXOF\"\n",
    "                \n",
    "                stats_frames = stats_frames.append({'PtID': pt_ID, date_id_col_name: oneDay, 'points_in_catchment': int(points_per_day_counts), 'analyzed_byKDE': 1}, ignore_index=True)\n",
    "                \n",
    "                ### Write the selected features to a new featureclass\n",
    "                arcpy.CopyFeatures_management(\"point_cliped_lyr\", \"point_fc_cliped_oneDay\")\n",
    "\n",
    "                ### Set analysis extent\n",
    "                ### here we make the extent slightly larger (by 400) to avoid cuts at the four edges\n",
    "                desc = arcpy.Describe(\"point_fc_cliped_oneDay\")\n",
    "                #xmin = desc.extent.XMin\n",
    "                #xmax = desc.extent.XMax\n",
    "                #ymin = desc.extent.YMin\n",
    "                #ymax = desc.extent.YMax\n",
    "                arcpy.env.extent = arcpy.Extent(desc.extent.XMin-400, desc.extent.YMin-400, desc.extent.XMax+400, desc.extent.YMax+400)\n",
    "\n",
    "                ### --------------------------------------------------------\n",
    "                ### Step 5: Create KDE \n",
    "                ### --------------------------------------------------------\n",
    "                KDE_raster = KernelDensity(in_features=\"point_fc_cliped_oneDay\", population_field='NONE', \n",
    "                                           cell_size=kde_cell_size, search_radius=kde_search_radius, \n",
    "                                           area_unit_scale_factor=\"SQUARE_MAP_UNITS\", method=\"PLANAR\")\n",
    "                print (\"Step 4: KDE raster created\")\n",
    "\n",
    "                ### --------------------------------------------------------        \n",
    "                ### Step 6: Set small values to Null\n",
    "                ### --------------------------------------------------------\n",
    "                KDE_raster_Nullfor0 = SetNull(KDE_raster, KDE_raster, \"VALUE < 0.000001\")\n",
    "                KDE_raster_Nullfor0.save(raster_output_gdb + pt_ID + \"_KDE_\" + str(kde_search_radius) + \"m_\" + str(oneDay))\n",
    "                print (\"Step 5: Tiny values in the KDE raster set to Null\")\n",
    "            \n",
    "            else:\n",
    "                stats_frames = stats_frames.append({'PtID': pt_ID, date_id_col_name: oneDay, 'points_in_catchment': int(points_per_day_counts), 'analyzed_byKDE': 0}, ignore_index=True)\n",
    "            \n",
    "            ### reset analysis extent \n",
    "            arcpy.env.extent = \"MAXOF\"\n",
    "            \n",
    "            j+=1\n",
    "        \n",
    "        pt_end = time.time()\n",
    "        f.write(\"\\nActivity surface created for #{}-{}, total time spent : {} \".format(i,pt_ID, (pt_end - pt_start)))\n",
    "        i+=1\n",
    "    \n",
    "    end = time.time()\n",
    "    f.write(\"\\n\")\n",
    "    f.write(\"-\"*60)\n",
    "    f.write(\"\\nActivity surface task complete, total time spent : {} \".format(end - start))\n",
    "    print(\"-\"*60)\n",
    "    print(\"Activity surface task complete, total time spent : {} \".format(end - start))\n",
    "    \n",
    "    stats_frames.to_csv(project_output_dir + \"KDE_processed_\" + dataset_name + \"_\" +  str(analysis_radius) + \"_\" + str(date_str) + \".csv\", index= False)"
   ]
  }
 ],
 "metadata": {
  "kernelspec": {
   "display_name": "arcgispro-py3-clone",
   "language": "python",
   "name": "arcgispro-py3-clone"
  },
  "language_info": {
   "codemirror_mode": {
    "name": "ipython",
    "version": 3
   },
   "file_extension": ".py",
   "mimetype": "text/x-python",
   "name": "python",
   "nbconvert_exporter": "python",
   "pygments_lexer": "ipython3",
   "version": "3.9.16"
  }
 },
 "nbformat": 4,
 "nbformat_minor": 4
}
