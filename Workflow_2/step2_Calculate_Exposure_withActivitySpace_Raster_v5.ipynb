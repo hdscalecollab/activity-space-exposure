{
 "cells": [
  {
   "cell_type": "markdown",
   "metadata": {},
   "source": [
    "# Exposure Analysis with pre-created Activity Space Rasters (KDE/DR)"
   ]
  },
  {
   "cell_type": "markdown",
   "metadata": {},
   "source": [
    "////////////////////////////////////////////////////////////////////////////////////\n",
    "#### [Metadata]\n",
    "##### Author: Jay (Jiue-An) Yang, @JiueAnYang\n",
    "##### Organization: Health Data at Scale Collaboratory, City of Hope\n",
    "##### Last Updated: Dec 20, 2023\n",
    "##### Latest Run On: Jun 30, 2022\n",
    "////////////////////////////////////////////////////////////////////////////////////\n",
    "***"
   ]
  },
  {
   "cell_type": "markdown",
   "metadata": {},
   "source": [
    "#### [Requirements]\n",
    "##### 1. A file directory/.gdb containing pre-generaed **[Activity Space Rasters]** from [GPS points]\n",
    "##### 2. A file directory/.gdb with **[raster files]** of env variables that needs to be processed\n",
    "##### 3. A polygon of the Research Area Boundary, will be used to restrict exposure within the area."
   ]
  },
  {
   "cell_type": "markdown",
   "metadata": {},
   "source": [
    "---\n",
    "#### [Update Notes] \n",
    "#####  2021-10-16: 1. comment out the place where the KDE-Exposure layers are saved to a new DB"
   ]
  },
  {
   "cell_type": "markdown",
   "metadata": {},
   "source": [
    "***\n",
    "### Model Workflow as shown using ArcGIS Model Builder\n",
    "\n",
    "![Alt text](step2_Calculate_Exposure_withActivitySpace_Raster)"
   ]
  },
  {
   "cell_type": "code",
   "execution_count": null,
   "metadata": {},
   "outputs": [],
   "source": []
  },
  {
   "cell_type": "code",
   "execution_count": null,
   "metadata": {},
   "outputs": [],
   "source": []
  },
  {
   "cell_type": "markdown",
   "metadata": {},
   "source": [
    "---\n",
    "## Step 1: Parameter Setup"
   ]
  },
  {
   "cell_type": "code",
   "execution_count": 1,
   "metadata": {
    "execution": {
     "iopub.execute_input": "2022-09-15T07:46:14.243117Z",
     "iopub.status.busy": "2022-09-15T07:46:14.242119Z",
     "iopub.status.idle": "2022-09-15T07:46:21.624181Z",
     "shell.execute_reply": "2022-09-15T07:46:21.623182Z",
     "shell.execute_reply.started": "2022-09-15T07:46:14.243117Z"
    },
    "tags": []
   },
   "outputs": [],
   "source": [
    "### Import required modules\n",
    "import arcpy\n",
    "from arcpy import env\n",
    "from arcpy.sa import *\n",
    "arcpy.CheckOutExtension(\"Spatial\")\n",
    "\n",
    "import glob\n",
    "import numpy as np\n",
    "import pandas as pd\n",
    "from tqdm.notebook import tqdm\n",
    "from IPython.display import clear_output\n",
    "\n",
    "### Set environment options\n",
    "arcpy.env.overwriteOutput = True\n",
    "\n",
    "### Specify spatial reference/projection for the analysis and the outputs\n",
    "spatial_ref = arcpy.SpatialReference('North America Albers Equal Area Conic')\n",
    "\n",
    "\n",
    "### ----------------------------------- ###\n",
    "### -----  Set Project Parameters ----- ###  \n",
    "\n",
    "### Define if this is 'Daily'  or 'Total' exposure calculation\n",
    "expo_type = 'Daily'             # options: 'Total' or 'Daily'\n",
    "\n",
    "dataset = 'MENU'                # Set the study name (PQ/RfH/Menu...etc) \n",
    "running_method = 'DR'           # Set the methods that you are running (KDE/DR/Buffer...etc)\n",
    "point_type = 'AllPoint'         # Set the point type that you are running (AllPoint/Stationary/Vehicle/Walking...etc)\n",
    "exposure_name = 'NDVI2014'      # Set the actual name of the exposure layer (Walkability/RecreationCt/NDVI2014/PM252013 ... etc)\n",
    "runDate = '20221015'            # Record the date for reference\n",
    "scale = 200                     # The search radius that was used to create the Activity Space Rasters              \n",
    "\n",
    "\n",
    "### -------------------------------- ###\n",
    "### -----  Set Input Data Path ----- ###  \n",
    "\n",
    "### Project directory and project workspace (the main GDB)\n",
    "project_default_workspace = r\"C:/Users/jiyang/Documents/ArcGIS/Projects/TWSA_PA/TWSA_PA.gdb/\" \n",
    "project_dir = r\"C:/Users/jiyang/Documents/ArcGIS/Projects/TWSA_PA/\"\n",
    "env.workspace = project_default_workspace\n",
    "\n",
    "### Set the path of the activity space rasters (should be a GDB with rasters)\n",
    "activity_raster_dir = r\"C:/Users/jiyang/Documents/ArcGIS/Projects/TWSA_PA/TWSA_PA_ActivitySpace_PQ_KDE_200r_50c.gdb/\"  \n",
    "\n",
    "### Set the path of the GDB where the environmental raster is stored \n",
    "ENV_raster_dir = r\"C:/Users/jiyang/Documents/ArcGIS/Projects/TWSA_PA/TWSA_PA_Exposure_Layers.gdb/\"\n",
    "\n",
    "### Set path to some specific layers (research area...etc)\n",
    "research_area = r\"C:/Users/jiyang/Documents/ArcGIS/Projects/TWSA_PA/TWSA_PA_Exposure_Layers.gdb/SoCal_CatchmentArea_Boundary_proj\"    \n",
    "\n",
    "### If you want to save the output Activity Space with Exposure (NOT recommended if storage space is limited)\n",
    "# KDE_Exposure_output_dir = r\"C:/Users/jiyang/Documents/ArcGIS/Projects/TWSA_PA/ActivitySpace_withExposure_.gdb/\" \n",
    "\n",
    "\n",
    "### ------------------------------- ###\n",
    "### -----  Set output paths   ----- ###  \n",
    "\n",
    "## Set output folder, where the exposure results would be saved to\n",
    "output_dir = r\"C:/Users/jiyang/Documents/ArcGIS/Projects/TWSA_PA/Outputs/\"\n",
    "\n",
    "## Set name for final output stored as a Table in the geodatabase\n",
    "final_output_table = \"Exposure_Table_\" + expo_type + '_' + exposure_name + '_' + dataset + '_' + running_method + '_' + str(scale) + '_' + runDate\n",
    "\n",
    "## Set name for final output stored as a .csv file in output folder\n",
    "final_output_table_csv_name =  \"Exposure_Table_\" + expo_type + '_' + exposure_name + '_' + dataset + '_' + running_method + '_' + str(scale) + '_' + runDate + \".csv\"  "
   ]
  },
  {
   "cell_type": "markdown",
   "metadata": {
    "tags": []
   },
   "source": [
    "---\n",
    "## Step 2: Pre-Processing, Check Data and Exposure Layer"
   ]
  },
  {
   "cell_type": "markdown",
   "metadata": {
    "tags": []
   },
   "source": [
    "### 2.1 Check if input directory contains valid data"
   ]
  },
  {
   "cell_type": "code",
   "execution_count": 2,
   "metadata": {
    "execution": {
     "iopub.execute_input": "2022-09-15T07:46:21.626175Z",
     "iopub.status.busy": "2022-09-15T07:46:21.626175Z",
     "iopub.status.idle": "2022-09-15T07:46:44.240411Z",
     "shell.execute_reply": "2022-09-15T07:46:44.240411Z",
     "shell.execute_reply.started": "2022-09-15T07:46:21.626175Z"
    },
    "scrolled": true,
    "tags": []
   },
   "outputs": [
    {
     "name": "stdout",
     "output_type": "stream",
     "text": [
      "There is a total of 2613 raster files to be processed in the directory/geodatabase.\n"
     ]
    }
   ],
   "source": [
    "### Check if directory contains valid data \n",
    "\n",
    "## Set the current workspace to Raster gdb\n",
    "arcpy.env.workspace = activity_raster_dir\n",
    "\n",
    "## Get the Activity Space raster list\n",
    "activity_raster_list = arcpy.ListRasters(\"*\")\n",
    "total_i = len(arcpy.ListRasters(\"*\"))\n",
    "\n",
    "## Placeholder for a list of: Participant and Corresponding Raster Names\n",
    "pt_rasters_lists = []  \n",
    "\n",
    "if total_i > 0:\n",
    "    print (\"There is a total of {} raster files to be processed in the directory/geodatabase.\".format(total_i))   \n",
    "    for img in activity_raster_list:\n",
    "        \n",
    "        if expo_type == 'Daily':\n",
    "            if ((dataset == 'RFH') or (dataset == 'MENU')) and (running_method=='KDE'):  ## These are customized to the RfH/MENU study dataset, can be changed accordingly\n",
    "                pt_id =  img.split(\"_\")[0]\n",
    "                img_date = img.split(\"_\")[5]\n",
    "                pt_rasters_lists.append([pt_id, img_date])\n",
    "            else:\n",
    "                pt_id =  img.split(\"_\")[0]\n",
    "                img_date = img.split(\"_\")[3]\n",
    "                pt_rasters_lists.append([pt_id, img_date])\n",
    "        elif expo_type == 'Total':\n",
    "            pt_id =  img.split(\"_\")[0]\n",
    "            pt_rasters_lists.append(pt_id)\n",
    "        else:\n",
    "            print (\"Check your expo_type parameter !\")\n",
    "        \n",
    "else:\n",
    "    print (\"Warning! No input rasters were found at your '/raster_data_dir/' directory, double check your path and data.\")\n",
    "    print (\"-\"*30)\n",
    "    print (\"Your current '/raster_data_dir/' directory is at {}\".format(activity_raster_dir))\n",
    "    \n",
    "# Set environment back to project default\n",
    "arcpy.env.workspace = project_default_workspace"
   ]
  },
  {
   "cell_type": "markdown",
   "metadata": {},
   "source": [
    "### 2.2 Confirm exposure layers (raster format) are in place"
   ]
  },
  {
   "cell_type": "code",
   "execution_count": 5,
   "metadata": {
    "execution": {
     "iopub.execute_input": "2022-09-15T07:46:44.288282Z",
     "iopub.status.busy": "2022-09-15T07:46:44.288282Z",
     "iopub.status.idle": "2022-09-15T07:46:44.497393Z",
     "shell.execute_reply": "2022-09-15T07:46:44.495497Z",
     "shell.execute_reply.started": "2022-09-15T07:46:44.288282Z"
    },
    "tags": []
   },
   "outputs": [
    {
     "name": "stdout",
     "output_type": "stream",
     "text": [
      "['RecreationCt', 'C:/Users/jiyang/Documents/ArcGIS/Projects/TWSA_PA/TWSA_PA_Exposure_Layers_200.gdb/RecreationCt']\n",
      "['Walkability', 'C:/Users/jiyang/Documents/ArcGIS/Projects/TWSA_PA/TWSA_PA_Exposure_Layers_200.gdb/Walkability']\n",
      "['NDVI2014', 'C:/Users/jiyang/Documents/ArcGIS/Projects/TWSA_PA/TWSA_PA_Exposure_Layers_200.gdb/NDVI2014']\n",
      "------------------------------------------------------------------------------------------\n",
      "There is a total of 3 ENV rasters in the geodatabase: ['RecreationCt', 'Walkability', 'NDVI2014']\n"
     ]
    }
   ],
   "source": [
    "## Get the list of ENV layers ['name','path'], to make sure the exposure rasters are there\n",
    "\n",
    "## Set the current workspace to ENV gdb\n",
    "arcpy.env.workspace = ENV_raster_dir\n",
    "\n",
    "## Get the ENV list\n",
    "rasters = arcpy.ListRasters(\"*\")   \n",
    "env_rasters_names = []\n",
    "for env_raster in rasters:\n",
    "    env_rasters_names.append(env_raster)\n",
    "    print ([env_raster, ENV_raster_dir + env_raster])\n",
    "    \n",
    "print (\"-\"*90)\n",
    "print (\"There is a total of {} ENV rasters in the geodatabase: {}\".format(len(rasters), env_rasters_names))\n",
    "    \n",
    "## Set environment back to project workspace\n",
    "arcpy.env.workspace = project_default_workspace"
   ]
  },
  {
   "cell_type": "markdown",
   "metadata": {},
   "source": [
    "---\n",
    "## Step 3: Calculate Exposure "
   ]
  },
  {
   "cell_type": "markdown",
   "metadata": {},
   "source": [
    "### 3.0  (Optional) Run this block if you want to clear the output table before the workflow"
   ]
  },
  {
   "cell_type": "code",
   "execution_count": null,
   "metadata": {},
   "outputs": [],
   "source": [
    "## Check the name of the exposure output table (in GDB) \n",
    "print (final_output_table)"
   ]
  },
  {
   "cell_type": "code",
   "execution_count": 7,
   "metadata": {
    "execution": {
     "iopub.execute_input": "2022-09-15T07:46:44.514348Z",
     "iopub.status.busy": "2022-09-15T07:46:44.513349Z",
     "iopub.status.idle": "2022-09-15T07:46:44.559227Z",
     "shell.execute_reply": "2022-09-15T07:46:44.558229Z",
     "shell.execute_reply.started": "2022-09-15T07:46:44.514348Z"
    },
    "tags": []
   },
   "outputs": [
    {
     "name": "stdout",
     "output_type": "stream",
     "text": [
      "Output table not in the geodabase, good to go!\n"
     ]
    }
   ],
   "source": [
    "# Set environment back \n",
    "arcpy.env.workspace = project_default_workspace\n",
    "\n",
    "### Clear final output table if there is data inside\n",
    "if arcpy.Exists(final_output_table):\n",
    "    arcpy.DeleteRows_management(final_output_table)\n",
    "    arcpy.DeleteRows_management(\"Exposure_Table_\" + exposure_name)\n",
    "    print (\"Output table --> {} <-- in geodabase is cleared: \".format(final_output_table))\n",
    "else:\n",
    "    print (\"Output table not in the geodabase, good to go!\")"
   ]
  },
  {
   "cell_type": "markdown",
   "metadata": {},
   "source": [
    "### 3.1 Loop through Activity Space and calculate Exposure"
   ]
  },
  {
   "cell_type": "code",
   "execution_count": 9,
   "metadata": {
    "execution": {
     "iopub.execute_input": "2022-09-15T07:46:44.608096Z",
     "iopub.status.busy": "2022-09-15T07:46:44.607099Z",
     "iopub.status.idle": "2022-09-15T11:39:17.358913Z",
     "shell.execute_reply": "2022-09-15T11:39:17.358913Z",
     "shell.execute_reply.started": "2022-09-15T07:46:44.608096Z"
    },
    "tags": []
   },
   "outputs": [
    {
     "data": {
      "application/vnd.jupyter.widget-view+json": {
       "model_id": "1f1ef187532c44d9aca3f49d0a1e5657",
       "version_major": 2,
       "version_minor": 0
      },
      "text/plain": [
       "  0%|          | 0/2613 [00:00<?, ?it/s]"
      ]
     },
     "metadata": {},
     "output_type": "display_data"
    },
    {
     "name": "stdout",
     "output_type": "stream",
     "text": [
      "------------------------------------------------------------\n",
      "Exposure Analysis for MENU + DR + NDVI2014 Completed !\n",
      "\n",
      "Output table available at :  C:/Users/jiyang/Documents/ArcGIS/Projects/TWSA_PA/Outputs/Exposure_Table_Daily_NDVI2014_MENU_DR_200_20220914.csv\n",
      "Exposure task complete, total time spent : 13952.722834348679 \n"
     ]
    }
   ],
   "source": [
    "from datetime import datetime\n",
    "start = time.time()\n",
    "\n",
    "### Define a log file, to keep records \n",
    "now = datetime.now()\n",
    "dt_string = now.strftime(\"%d-%m-%Y-%H-%M-%S\")\n",
    "log_file_name = \"log_\" + dataset + '_' + dt_string + \".txt\"\n",
    "\n",
    "### Inititate the run with log file recording msgs\n",
    "with open(output_dir + log_file_name, \"a\") as f:\n",
    "    \n",
    "    ### Loop through all Activity Rasters in the data directory\n",
    "    i = 0\n",
    "    total_i = len(activity_raster_list)\n",
    "    for item in tqdm(list(zip(pt_rasters_lists, activity_raster_list))):   ### Full-Run with TDQM\n",
    "    \n",
    "        clear_output(wait=True)\n",
    "        \n",
    "        ## Get the PT ID (and date, for daily) that are being processed\n",
    "        if expo_type == 'Daily':\n",
    "            pt_ID = item[0][0]\n",
    "            date = item[0][1]\n",
    "        else:\n",
    "            pt_ID = item[0]\n",
    "            \n",
    "        raster_file = item[1]\n",
    "\n",
    "        msg = \"Working on : {pt}-{dt} ({index}/{total})\".format(pt = pt_ID, dt= date, index = i+1, total= total_i)\n",
    "        print (msg)\n",
    "\n",
    "        try: \n",
    "            ### -------------------------------------------------------------\n",
    "            ### Step 1: Process: Raster Calculator (Raster Calculator) (sa)\n",
    "            ### -------------------------------------------------------------\n",
    "            weighted_exposure = Raster(ENV_raster_dir + exposure_name) * Raster(activity_raster_dir + raster_file)\n",
    "            ### Uncomment these two lines to save the Exposure Output Raster into another geodatabase\n",
    "            # output_raster_name= \"/KDE_Exposure_\" + exposure_name + \"_\" + pt_ID + \"_\" + date \n",
    "            # weighted_exposure.save(KDE_Exposure_output_dir + output_raster_name) \n",
    "            print (\"Step 1: Weight exposure computed\")\n",
    "\n",
    "            \n",
    "            ### --------------------------------------------------------\n",
    "            ### Step 2: Calculate statistics for the participant\n",
    "            ### --------------------------------------------------------\n",
    "            exposure_statistics_table = ZonalStatisticsAsTable(research_area, \"OBJECTID\", weighted_exposure, env.workspace + \"/Exposure_Table_\" + exposure_name, \"DATA\", \"ALL\")\n",
    "            print (\"Step 2: Exposure statistics computed\")\n",
    "\n",
    "            \n",
    "            ### --------------------------------------------------------\n",
    "            ### Step 3: Add an new fields to the table\n",
    "            ### --------------------------------------------------------\n",
    "\n",
    "            ### Add PT_ID to the field\n",
    "            arcpy.AddField_management(\"Exposure_Table_\" + exposure_name, \"PT_ID\", \"TEXT\", \"\",\"\", 100, \"\", \"NULLABLE\", \"\",\"\")\n",
    "            arcpy.CalculateField_management(\"Exposure_Table_\" + exposure_name, \"PT_ID\", \"pt_ID\", \"PYTHON3\")    \n",
    "            \n",
    "            ### Add DATE to the field if this is for DAILY exposure\n",
    "            if expo_type == 'Daily':\n",
    "                arcpy.AddField_management(\"Exposure_Table_\" + exposure_name, \"date_int\", \"LONG\", \"\",\"\", 100, \"\", \"NULLABLE\", \"\",\"\")\n",
    "                arcpy.CalculateField_management(\"Exposure_Table_\" + exposure_name, \"date_int\", \"date\", \"PYTHON3\")    \n",
    "\n",
    "            ### Add exposure_layer name to the field\n",
    "            arcpy.AddField_management(\"Exposure_Table_\" + exposure_name, \"exposure_layer\", \"TEXT\", \"\",\"\", 100, \"\", \"NULLABLE\", \"\",\"\")\n",
    "            arcpy.CalculateField_management(\"Exposure_Table_\" + exposure_name, \"exposure_layer\", \"exposure_name\", \"PYTHON3\")    \n",
    "            print (\"Step 3: Additional files added to output table.\")\n",
    "            \n",
    "            ### ------------------------------------------------------------------------\n",
    "            ### Step 4: Append the participant results table to the final output table\n",
    "            ### ------------------------------------------------------------------------\n",
    "            if arcpy.Exists(final_output_table):\n",
    "                arcpy.Append_management(\"Exposure_Table_\" + exposure_name, final_output_table, \"NO_TEST\")\n",
    "                print (\"Step 4: Exposure results for [\", pt_ID, \"] added to output table\")\n",
    "            else:\n",
    "                arcpy.Copy_management(\"Exposure_Table_\" + exposure_name, final_output_table)\n",
    "\n",
    "        except:\n",
    "            ### Write an Error Msg to the log file to record the PT-Date that was not processed\n",
    "            if expo_type == 'Daily':\n",
    "                msg = \"\\nExposure was not calculated run for : {pt}-{dt}\".format(pt = pt_ID, dt= date)\n",
    "            else:\n",
    "                msg = \"\\nExposure was not calculated run for : {pt}\".format(pt = pt_ID)\n",
    "            f.write(msg)\n",
    "\n",
    "        i+=1\n",
    "\n",
    "    # --------------------------------------------------------\n",
    "    # Step 5: Convert Table to Pandas Dataframe\n",
    "    # --------------------------------------------------------\n",
    "    \n",
    "    ### Get columns names from result table\n",
    "    field_names = [f.name for f in arcpy.ListFields(final_output_table)]\n",
    "    \n",
    "    ### Convert table to NP Array, and convert NP Array to Pandas Dataframe\n",
    "    np_arr = arcpy.da.TableToNumPyArray(final_output_table, field_names)\n",
    "    df = pd.DataFrame(data = np_arr)\n",
    "    \n",
    "    ### Add additional information columns to output file \n",
    "    df['study']  = dataset\n",
    "    df['method'] = running_method\n",
    "    df['point_type'] = point_type\n",
    "    df['scale'] = scale\n",
    "    \n",
    "    ### Reorganize the column orders and export to .csv\n",
    "    if expo_type == 'Daily':\n",
    "        df[['study','PT_ID', 'date_int','point_type','scale','method','exposure_layer',\n",
    "            'COUNT', 'AREA', 'MIN', 'MAX', 'RANGE', 'MEAN', 'STD', 'SUM', 'MEDIAN', 'PCT90']].to_csv(output_dir + final_output_table_csv_name, index = False)\n",
    "    else:\n",
    "        df[['study','PT_ID', 'point_type','scale','method','exposure_layer',\n",
    "            'COUNT', 'AREA', 'MIN', 'MAX', 'RANGE', 'MEAN', 'STD', 'SUM', 'MEDIAN', 'PCT90']].to_csv(output_dir + final_output_table_csv_name, index = False)\n",
    "        \n",
    "    ### Some text output for the user\n",
    "    print (\"-\"*60)\n",
    "    print (\"Exposure Analysis for {} + {} + {} Completed !\".format(dataset,running_method,exposure_name))\n",
    "    print (\"\")\n",
    "    print (\"Output table available at : \", output_dir + final_output_table_csv_name)\n",
    "\n",
    "    end = time.time()\n",
    "    print(\"Exposure task complete, total time spent : {} \".format(end - start))\n",
    "    \n",
    "    f.write(\"\\n\")\n",
    "    f.write(\"-\"*60)\n",
    "    f.write(\"\\nExposure task complete, total time spent : {} \".format(end - start))    \n",
    "\n",
    "    ### Note: Final output table is saved as a .csv file in the defined [final_output_table_output_dir] location."
   ]
  }
 ],
 "metadata": {
  "kernelspec": {
   "display_name": "arcgispro-py3-clone",
   "language": "python",
   "name": "arcgispro-py3-clone"
  },
  "language_info": {
   "codemirror_mode": {
    "name": "ipython",
    "version": 3
   },
   "file_extension": ".py",
   "mimetype": "text/x-python",
   "name": "python",
   "nbconvert_exporter": "python",
   "pygments_lexer": "ipython3",
   "version": "3.9.16"
  }
 },
 "nbformat": 4,
 "nbformat_minor": 4
}
